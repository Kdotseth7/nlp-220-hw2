{
 "cells": [
  {
   "cell_type": "code",
   "execution_count": 80,
   "id": "6f9988cb",
   "metadata": {},
   "outputs": [],
   "source": [
    "# Imports\n",
    "import xml.dom.minidom\n",
    "import json\n",
    "import re\n",
    "\n",
    "# Reading XML File\n",
    "doc = xml.dom.minidom.parse('Data/movies-new.xml')"
   ]
  },
  {
   "cell_type": "code",
   "execution_count": 81,
   "id": "0c7e2b81",
   "metadata": {},
   "outputs": [
    {
     "name": "stdout",
     "output_type": "stream",
     "text": [
      "-----Movie Title-----\n",
      "['Indiana Jones: The raiders of the lost Ark', 'THE KARATE KID', 'Back 2 the Future', 'X-Men', 'Batman Returns', 'Reservoir Dogs', 'ALIEN', \"Ferris Bueller's Day Off\", 'American Psycho']\n",
      "-----Year-----\n",
      "['1981', '1984', '1985', '2000', '1992', '1992', '1979', '1986', '2000']\n",
      "-----Rating-----\n",
      "['PG', 'PG', 'PG', 'PG-13', 'PG13', 'R', 'R', 'PG13', 'Unrated']\n",
      "-----Description-----\n",
      "[\" 'Archaeologist and adventurer Indiana Jones is hired by the U.S. government to find the Ark of the Covenant before the Nazis.' \", 'None provided.', 'Marty McFly', 'Two mutants come to a private academy for their kind whose resident superhero team must oppose a terrorist organization with similar powers.', 'NA.', 'WhAtEvER I Want!!!?!', '\"\"\"\"\"\"\"\"\"', 'Funny movie about a funny guy', 'psychopathic Bateman']\n"
     ]
    }
   ],
   "source": [
    "# DOM parsing\n",
    "\n",
    "print('-----Movie Title-----')\n",
    "mt_node_list = doc.getElementsByTagName('movie')\n",
    "mt_list = [node.getAttribute('title') for node in mt_node_list]\n",
    "print(mt_list)\n",
    "    \n",
    "print('-----Year-----')\n",
    "yr_node_list = doc.getElementsByTagName('year')\n",
    "yr_list = [node.childNodes[0].nodeValue for node in yr_node_list]\n",
    "print(yr_list)\n",
    "\n",
    "print('-----Rating-----')       \n",
    "rtg_node_list = doc.getElementsByTagName('rating')\n",
    "rtg_list = [node.childNodes[0].nodeValue for node in rtg_node_list]\n",
    "print(rtg_list)\n",
    "    \n",
    "print('-----Description-----')    \n",
    "desc_node_list = doc.getElementsByTagName('description')\n",
    "desc_list = [node.childNodes[0].nodeValue for node in desc_node_list]\n",
    "desc_list_cleaned = [re.sub(r'\\s+', ' ', item) for item in desc_list]\n",
    "print(desc_list_cleaned)"
   ]
  },
  {
   "cell_type": "code",
   "execution_count": 89,
   "id": "0a828b0e",
   "metadata": {},
   "outputs": [
    {
     "name": "stdout",
     "output_type": "stream",
     "text": [
      "{\n",
      "    \"movies\": [\n",
      "        {\n",
      "            \"movie title\": \"Indiana Jones: The raiders of the lost Ark\",\n",
      "            \"year\": \"1981\",\n",
      "            \"rating\": \"PG\",\n",
      "            \"description\": \" 'Archaeologist and adventurer Indiana Jones is hired by the U.S. government to find the Ark of the Covenant before the Nazis.' \"\n",
      "        },\n",
      "        {\n",
      "            \"movie title\": \"THE KARATE KID\",\n",
      "            \"year\": \"1984\",\n",
      "            \"rating\": \"PG\",\n",
      "            \"description\": \"None provided.\"\n",
      "        },\n",
      "        {\n",
      "            \"movie title\": \"Back 2 the Future\",\n",
      "            \"year\": \"1985\",\n",
      "            \"rating\": \"PG\",\n",
      "            \"description\": \"Marty McFly\"\n",
      "        },\n",
      "        {\n",
      "            \"movie title\": \"X-Men\",\n",
      "            \"year\": \"2000\",\n",
      "            \"rating\": \"PG-13\",\n",
      "            \"description\": \"Two mutants come to a private academy for their kind whose resident superhero team must oppose a terrorist organization with similar powers.\"\n",
      "        },\n",
      "        {\n",
      "            \"movie title\": \"Batman Returns\",\n",
      "            \"year\": \"1992\",\n",
      "            \"rating\": \"PG13\",\n",
      "            \"description\": \"NA.\"\n",
      "        },\n",
      "        {\n",
      "            \"movie title\": \"Reservoir Dogs\",\n",
      "            \"year\": \"1992\",\n",
      "            \"rating\": \"R\",\n",
      "            \"description\": \"WhAtEvER I Want!!!?!\"\n",
      "        },\n",
      "        {\n",
      "            \"movie title\": \"ALIEN\",\n",
      "            \"year\": \"1979\",\n",
      "            \"rating\": \"R\",\n",
      "            \"description\": \"\\\"\\\"\\\"\\\"\\\"\\\"\\\"\\\"\\\"\"\n",
      "        },\n",
      "        {\n",
      "            \"movie title\": \"Ferris Bueller's Day Off\",\n",
      "            \"year\": \"1986\",\n",
      "            \"rating\": \"PG13\",\n",
      "            \"description\": \"Funny movie about a funny guy\"\n",
      "        },\n",
      "        {\n",
      "            \"movie title\": \"American Psycho\",\n",
      "            \"year\": \"2000\",\n",
      "            \"rating\": \"Unrated\",\n",
      "            \"description\": \"psychopathic Bateman\"\n",
      "        }\n",
      "    ]\n",
      "}\n"
     ]
    }
   ],
   "source": [
    "# JSON Creation\n",
    "list_json = []\n",
    "for i in range(len(mt_list)):\n",
    "    temp_dict = {}\n",
    "    temp_dict['movie title'] = mt_list[i]\n",
    "    temp_dict['year'] = yr_list[i]\n",
    "    temp_dict['rating'] = rtg_list[i]\n",
    "    temp_dict['description'] = desc_list_cleaned[i]\n",
    "    list_json.append(temp_dict)\n",
    "movies = {'movies': list_json}\n",
    "    \n",
    "# Serializing json    \n",
    "json_object = json.dumps(movies, indent = 4)\n",
    "print(json_object)\n",
    "\n",
    "with open(\"movies.json\", \"w\") as outfile:\n",
    "    outfile.write(json_object)\n",
    "    outfile.close()"
   ]
  }
 ],
 "metadata": {
  "kernelspec": {
   "display_name": "Python 3 (ipykernel)",
   "language": "python",
   "name": "python3"
  },
  "language_info": {
   "codemirror_mode": {
    "name": "ipython",
    "version": 3
   },
   "file_extension": ".py",
   "mimetype": "text/x-python",
   "name": "python",
   "nbconvert_exporter": "python",
   "pygments_lexer": "ipython3",
   "version": "3.10.8"
  }
 },
 "nbformat": 4,
 "nbformat_minor": 5
}
