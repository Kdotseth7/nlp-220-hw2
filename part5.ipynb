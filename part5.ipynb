{
 "cells": [
  {
   "cell_type": "code",
   "execution_count": 114,
   "id": "be799393",
   "metadata": {},
   "outputs": [
    {
     "name": "stderr",
     "output_type": "stream",
     "text": [
      "[nltk_data] Downloading package averaged_perceptron_tagger to\n",
      "[nltk_data]     /Users/kushagraseth/nltk_data...\n",
      "[nltk_data]   Package averaged_perceptron_tagger is already up-to-\n",
      "[nltk_data]       date!\n"
     ]
    },
    {
     "data": {
      "text/plain": [
       "True"
      ]
     },
     "execution_count": 114,
     "metadata": {},
     "output_type": "execute_result"
    }
   ],
   "source": [
    "# Imports\n",
    "import pandas as pd\n",
    "import math\n",
    "import nltk\n",
    "nltk.download('averaged_perceptron_tagger')"
   ]
  },
  {
   "cell_type": "code",
   "execution_count": 78,
   "id": "2bf3b614",
   "metadata": {},
   "outputs": [
    {
     "name": "stdout",
     "output_type": "stream",
     "text": [
      "       phrases  phrase ids\n",
      "0            !           0\n",
      "1          ! '       22935\n",
      "2         ! ''       18235\n",
      "3       ! Alas      179257\n",
      "4  ! Brilliant       22936\n",
      "(239232, 2)\n",
      "   phrase ids  sentiment values\n",
      "0           0           0.50000\n",
      "1           1           0.50000\n",
      "2           2           0.44444\n",
      "3           3           0.50000\n",
      "4           4           0.42708\n",
      "(239232, 2)\n"
     ]
    }
   ],
   "source": [
    "# Reading txt Files into Pandas DataFrame\n",
    "phrases_df = pd.read_csv('Data/stanfordSentimentTreebank/dictionary.txt', \n",
    "                         header = None, \n",
    "                         sep = '|')\n",
    "phrases_df.columns = ['phrases', 'phrase ids']\n",
    "print(phrases_df.head())\n",
    "print(phrases_df.shape)\n",
    "\n",
    "labels_df = pd.read_csv('Data/stanfordSentimentTreebank/sentiment_labels.txt', \n",
    "                        sep = '|')\n",
    "print(labels_df.head())\n",
    "print(labels_df.shape)"
   ]
  },
  {
   "cell_type": "code",
   "execution_count": 79,
   "id": "35930b15",
   "metadata": {},
   "outputs": [
    {
     "name": "stdout",
     "output_type": "stream",
     "text": [
      "                        phrases  sentiment values\n",
      "phrase ids                                       \n",
      "0                             !           0.50000\n",
      "1                             '           0.50000\n",
      "2                           ' (           0.44444\n",
      "3             ' ( the cockettes           0.50000\n",
      "4           ' ( the cockettes )           0.42708\n",
      "(239232, 2)\n"
     ]
    }
   ],
   "source": [
    "# Merged DataFrame\n",
    "df = pd.merge(phrases_df, \n",
    "              labels_df, \n",
    "              on = ['phrase ids'])\n",
    "df.sort_values(by='phrase ids', \n",
    "               inplace = True)\n",
    "df.set_index('phrase ids', \n",
    "             inplace = True)\n",
    "print(df.head())\n",
    "print(df.shape)"
   ]
  },
  {
   "cell_type": "code",
   "execution_count": 121,
   "id": "96f2be0a",
   "metadata": {},
   "outputs": [
    {
     "name": "stdout",
     "output_type": "stream",
     "text": [
      "                        phrases  sentiment values  raw scores\n",
      "phrase ids                                                   \n",
      "0                             !           0.50000          13\n",
      "1                             '           0.50000          13\n",
      "2                           ' (           0.44444          12\n",
      "3             ' ( the cockettes           0.50000          13\n",
      "4           ' ( the cockettes )           0.42708          11\n"
     ]
    }
   ],
   "source": [
    "# Raw Scores for phrases\n",
    "df['raw scores'] = df['sentiment values'].apply(lambda row: math.ceil(row * 25))\n",
    "print(df.head())"
   ]
  },
  {
   "cell_type": "code",
   "execution_count": 144,
   "id": "95f1dd53",
   "metadata": {},
   "outputs": [
    {
     "name": "stdout",
     "output_type": "stream",
     "text": [
      "(0, '!')\n",
      "(1, \"'\")\n",
      "(2, \"' (\")\n",
      "(3, \"' ( the cockettes\")\n",
      "(4, \"' ( the cockettes )\")\n",
      "(5, \"' ( the cockettes ) provides a window into a subculture hell-bent on expressing itself in every way imaginable\")\n",
      "(6, \"' ( the cockettes ) provides a window into a subculture hell-bent on expressing itself in every way imaginable .\")\n",
      "(7, \"' ( the cockettes ) provides a window into a subculture hell-bent on expressing itself in every way imaginable . '\")\n",
      "(9, \"' a nightmare on elm street '\")\n",
      "(10, \"' a nightmare on elm street ' or\")\n",
      "(11, \"' a nightmare on elm street ' or `\")\n",
      "(16, \"' a perfect family film , ' because it 's about family\")\n",
      "(17, \"''\")\n",
      "(18, \"'ll\")\n",
      "(19, \"'ll like it\")\n",
      "(20, \"'s\")\n",
      "(21, \"'s a certain style and wit to the dialogue\")\n",
      "(24, \"'s a visual delight and a decent popcorn adventure\")\n",
      "(25, \"'s a visual delight and a decent popcorn adventure ,\")\n",
      "(26, \"'s a visual delight and a decent popcorn adventure , as long as you do n't try to look too deep into the story\")\n",
      "(27, \"'s about family\")\n",
      "(28, \"'s all pretty\")\n",
      "(29, \"'s all pretty tame\")\n",
      "(30, \"'s another retelling of alexandre dumas ' classic . why ? who knows , but it works under the direction of kevin reynolds\")\n",
      "(33, \"'s back-stabbing , inter-racial desire and , most importantly , singing and dancing\")\n",
      "(34, \"'s enough melodrama in this magnolia primavera\")\n",
      "(35, \"'s enough melodrama in this magnolia primavera to make pta proud yet director muccino 's characters are less worthy of puccini\")\n",
      "(37, \"'s enough to make one pine for the day when godard can no longer handle the rigors of filmmaking\")\n",
      "(39, \"'s frustrating to see these guys -- who are obviously pretty clever --\")\n",
      "(41, \"'s hard to resist his pleas to spare wildlife and respect their environs\")\n",
      "(42, \"'s haunting\")\n",
      "(43, \"'s like a poem\")\n",
      "(45, \"'s necessary\")\n",
      "(46, \"'s not\")\n",
      "(50, \"'s notably better acted -- and far less crass -\")\n",
      "(51, \"'s notably better acted -- and far less crass - than some other recent efforts in the burgeoning genre of films about black urban professionals\")\n",
      "(52, \"'s quizzical\")\n",
      "(53, \"'s rare to find a film that dazzles the eye , challenges the brain , and satisfies our lust for fast-paced action\")\n",
      "(54, \"'s rare to see a movie that takes such a speedy swan dive from '' promising '' to '' interesting '' to '' familiar '' before landing squarely on '' stupid ''\")\n",
      "(55, \"'s savvy about celebrity\")\n",
      "(56, \"'s savvy about celebrity and\")\n",
      "(57, \"'s savvy about celebrity and has more guts and energy than much of what will open this year\")\n",
      "(59, \"'s something intrinsically funny about sir anthony hopkins saying ` get in the car , bitch , ' this jerry bruckheimer production has little else to offer\")\n",
      "(60, \"'s surprisingly bland despite the heavy doses of weird performances and direction\")\n",
      "(61, \"'s sweet , harmless , dumb , occasionally funny and about as compelling\")\n",
      "(64, \"'ve\")\n",
      "(65, \"'ve seen many times\")\n",
      "(69, '( shyamalan')\n",
      "(70, '( shyamalan )')\n",
      "(71, '( shyamalan ) turns the goose-pimple genre on its empty head and fills it with spirit , purpose and emotionally bruised characters who add up to more than body count')\n"
     ]
    }
   ],
   "source": [
    "# Print Phrases with score 1 to 20\n",
    "ott_list = []\n",
    "for idx, row in df.iterrows():\n",
    "    if(row['raw scores'] >= 10 and row['raw scores'] <= 20):\n",
    "        ott_list.append((idx, row['phrases']))\n",
    "for i in range(50):\n",
    "    print(ott_list[i])"
   ]
  },
  {
   "cell_type": "code",
   "execution_count": 145,
   "id": "3035aa34",
   "metadata": {},
   "outputs": [
    {
     "name": "stdout",
     "output_type": "stream",
     "text": [
      "(342, \"adults will certainly want to spend their time in the theater thinking up grocery lists and ways to tell their kids how not to act like pinocchio . as for children , they wo n't enjoy the movie at all .\", 41)\n",
      "(550, 'be a movie that ends up slapping its target audience in the face by shooting itself in the foot', 19)\n",
      "(655, 'but its abrupt drop in iq points as it races to the finish line proves simply too discouraging to let slide', 21)\n",
      "(1012, \"for all its technical virtuosity , the film is so mired in juvenile and near-xenophobic pedagogy that it 's enough to make one pine for the day when godard can no longer handle the rigors of filmmaking .\", 38)\n",
      "(1388, 'is nothing funny in this every-joke-has - been-told-a - thousand-times - before movie', 13)\n",
      "(1431, \"it 's all pretty tame . the most offensive thing about the movie is that hollywood expects people to pay to see it\", 23)\n",
      "(1435, \"it 's enough to make one pine for the day when godard can no longer handle the rigors of filmmaking\", 20)\n",
      "(1436, \"it 's frustrating to see these guys -- who are obviously pretty clever -- waste their talent on parodies of things they probably thought were funniest when they were high\", 30)\n",
      "(1453, \"it 's so laddish and juvenile , only teenage boys could possibly find it funny\", 15)\n",
      "(2203, \"saying ` get in the car , bitch , ' this jerry bruckheimer production has little else to offer\", 19)\n",
      "(2235, \"seems terrified of the book 's irreverent energy , and scotches most of its lan , humor , bile , and irony\", 22)\n",
      "(2586, \"the dumbest , sketchiest movie on record about an aspiring writer 's coming-of-age\", 13)\n",
      "(2688, \"the performances are so leaden , michael rymer 's direction is so bloodless and\", 14)\n",
      "(2813, \"there 's not a fresh idea at the core of this tale\", 12)\n",
      "(2823, 'these self-styled athletes have banged their brains into the ground so frequently', 12)\n",
      "(2870, \"this may be the dumbest , sketchiest movie on record about an aspiring writer 's coming-of-age .\", 17)\n",
      "(2875, 'this movie , a certain scene in particular , brought me uncomfortably close to losing my lunch', 17)\n",
      "(2876, 'this movie , a certain scene in particular , brought me uncomfortably close to losing my lunch .', 18)\n",
      "(2954, \"to see a movie that takes such a speedy swan dive from '' promising '' to '' interesting '' to '' familiar '' before landing squarely on '' stupid ''\", 30)\n",
      "(3174, \"will certainly want to spend their time in the theater thinking up grocery lists and ways to tell their kids how not to act like pinocchio . as for children , they wo n't enjoy the movie at all\", 39)\n",
      "(3314, \"'s an 88-minute highlight reel that 's 86 minutes too long\", 11)\n",
      "(3333, \"'s just one that could easily wait for your pay per view dollar\", 13)\n",
      "(3345, \"'s never a good sign when a film 's star spends the entirety of the film in a coma\", 19)\n",
      "(3386, \"'ve watched nothing but a pale imitation of the real deal\", 11)\n",
      "(3487, \"... while the humor aspects of ` jason x ' were far more entertaining than i had expected , everything else about the film tanks .\", 26)\n",
      "(3512, '77 minutes of pokemon may not last 4ever , it just seems like it does', 15)\n",
      "(3540, \"` it 's painful to watch witherspoon 's talents wasting away inside unnecessary films like legally blonde and sweet home abomination , i mean , alabama .\", 27)\n",
      "(3629, 'a case of too many chefs fussing over too weak a recipe', 12)\n",
      "(3640, 'a cheap scam put together by some cynical creeps at revolution studios and imagine entertainment to make the suckers out there surrender $ 9 and 93 minutes of unrecoverable life', 30)\n",
      "(3641, 'a cheap scam put together by some cynical creeps at revolution studios and imagine entertainment to make the suckers out there surrender $ 9 and 93 minutes of unrecoverable life .', 31)\n",
      "(3757, 'a faulty premise , one it follows into melodrama and silliness', 11)\n",
      "(3783, 'a film living far too much in its own head', 10)\n",
      "(3938, \"a lousy movie that 's not merely unwatchable , but also unlistenable\", 12)\n",
      "(3939, \"a lousy movie that 's not merely unwatchable , but also unlistenable .\", 13)\n",
      "(3958, \"a mawkish , implausible platonic romance that makes chaplin 's city lights\", 12)\n",
      "(3960, \"a mawkish , implausible platonic romance that makes chaplin 's city lights seem dispassionate by comparison .\", 17)\n",
      "(3963, 'a mawkish self-parody that plays like some weird masterpiece theater sketch with neither a point of view nor a compelling reason', 21)\n",
      "(4221, 'a thriller without thrills and a mystery devoid of urgent questions .', 12)\n",
      "(4257, 'a two-way time-switching myopic mystery that stalls in its lackluster gear of emotional blandness', 14)\n",
      "(4397, \"adam sandler 's heart may be in the right place , but he needs to pull his head out of his butt\", 22)\n",
      "(4437, \"afraid to pitch into farce , yet only half-hearted in its spy mechanics , all the queen 's men is finally just one long drag .\", 26)\n",
      "(4528, \"almost everything about the film is unsettling , from the preposterous hairpiece worn by lai 's villainous father to the endless action sequences\", 23)\n",
      "(4529, \"almost everything about the film is unsettling , from the preposterous hairpiece worn by lai 's villainous father to the endless action sequences .\", 24)\n",
      "(4585, \"an 88-minute highlight reel that 's 86 minutes too long\", 10)\n",
      "(4686, 'an ugly knot tightening in your stomach . but is that knot from dramatic tension or a symptom of artistic malnutrition', 21)\n",
      "(4698, 'an ungainly movie , ill-fitting , with its elbows sticking out where the knees should be', 16)\n",
      "(4737, \"another self-consciously overwritten story about a rag-tag bunch of would-be characters that team up for a ca n't -\", 19)\n",
      "(4809, \"are wheezing to an end , along with green 's half-hearted movie career\", 13)\n",
      "(4819, 'artificial as the video games japanese teens play in a nightclub sequence', 12)\n",
      "(4878, 'as if to prove a female director can make a movie with no soft edges , kathryn bigelow offers no sugar-coating or interludes of lightness . her film is unrelentingly claustrophobic and unpleasant', 33)\n"
     ]
    }
   ],
   "source": [
    "# Print Phrases with score 1 to 5 and num of tokens atleast 10\n",
    "otf_list = []\n",
    "for idx, row in df.iterrows():\n",
    "    if((row['raw scores'] > 1 and row['raw scores'] < 5)):\n",
    "        phrase_list = row['phrases'].split()\n",
    "        LEN_PHRASE = len(phrase_list)\n",
    "        if (LEN_PHRASE >= 10):\n",
    "            otf_list.append((idx, row['phrases'], LEN_PHRASE))\n",
    "for i in range(50):\n",
    "    print(otf_list[i])"
   ]
  },
  {
   "cell_type": "code",
   "execution_count": 146,
   "id": "a4d6b1e9",
   "metadata": {},
   "outputs": [
    {
     "name": "stdout",
     "output_type": "stream",
     "text": [
      "(19, \"'ll like it\")\n",
      "(196, 'a little too smugly superior to like')\n",
      "(199, 'a moody , multi-dimensional love story and sci-fi mystery')\n",
      "(200, 'a moody , multi-dimensional love story and sci-fi mystery ,')\n",
      "(201, 'a moody , multi-dimensional love story and sci-fi mystery , solaris')\n",
      "(202, 'a moody , multi-dimensional love story and sci-fi mystery , solaris is a thought-provoking , haunting film that allows the seeds of the imagination to germinate')\n",
      "(203, 'a moody , multi-dimensional love story and sci-fi mystery , solaris is a thought-provoking , haunting film that allows the seeds of the imagination to germinate .')\n",
      "(651, 'but a little too smugly superior to like')\n",
      "(1260, 'if you love him')\n",
      "(1261, 'if you love him ,')\n",
      "(1262, 'if you love him , you')\n",
      "(1263, \"if you love him , you 'll like it\")\n",
      "(1263, \"if you love him , you 'll like it\")\n",
      "(1265, 'ignore but a little too smugly superior to like')\n",
      "(1399, \"is so de palma . if you love him , you 'll like it .\")\n",
      "(1399, \"is so de palma . if you love him , you 'll like it .\")\n",
      "(1400, \"is so de palma . if you love him , you 'll like it . if you do n't\")\n",
      "(1400, \"is so de palma . if you love him , you 'll like it . if you do n't\")\n",
      "(1412, 'is this love')\n",
      "(1413, 'is this love or')\n",
      "(1414, 'is this love or is it')\n",
      "(1415, 'is this love or is it masochism ? binoche')\n",
      "(1416, 'is this love or is it masochism ? binoche makes it interesting trying to find out')\n",
      "(1417, 'is this love or is it masochism ? binoche makes it interesting trying to find out .')\n",
      "(1640, 'love')\n",
      "(1641, 'love him')\n",
      "(1789, 'multi-dimensional love')\n",
      "(1790, 'multi-dimensional love story')\n",
      "(1791, 'multi-dimensional love story and')\n",
      "(1792, 'multi-dimensional love story and sci-fi')\n",
      "(1793, 'multi-dimensional love story and sci-fi mystery')\n",
      "(2000, \"palma . if you love him , you 'll like it\")\n",
      "(2000, \"palma . if you love him , you 'll like it\")\n",
      "(2001, \"palma . if you love him , you 'll like it .\")\n",
      "(2001, \"palma . if you love him , you 'll like it .\")\n",
      "(2860, \"this is so de palma . if you love him , you 'll like it . if you do n't\")\n",
      "(2860, \"this is so de palma . if you love him , you 'll like it . if you do n't\")\n",
      "(2861, \"this is so de palma . if you love him , you 'll like it . if you do n't ...\")\n",
      "(2861, \"this is so de palma . if you love him , you 'll like it . if you do n't ...\")\n",
      "(2862, \"this is so de palma . if you love him , you 'll like it . if you do n't ... well , skip to another review\")\n",
      "(2862, \"this is so de palma . if you love him , you 'll like it . if you do n't ... well , skip to another review\")\n",
      "(2863, \"this is so de palma . if you love him , you 'll like it . if you do n't ... well , skip to another review .\")\n",
      "(2863, \"this is so de palma . if you love him , you 'll like it . if you do n't ... well , skip to another review .\")\n",
      "(2866, 'this love')\n",
      "(2931, 'to ignore but a little too smugly superior to like')\n",
      "(2935, 'to like')\n",
      "(2977, 'too smart to ignore but a little too smugly superior to like')\n",
      "(2978, 'too smart to ignore but a little too smugly superior to like ,')\n",
      "(2979, 'too smart to ignore but a little too smugly superior to like , this')\n",
      "(2980, 'too smart to ignore but a little too smugly superior to like , this could be a movie that ends up slapping its target audience in the face by shooting itself in the foot')\n"
     ]
    }
   ],
   "source": [
    "# Print Phrases that contain any of the following words: “love”, “like”, “hate”. Exclude phrases where the word “like” is not a verb.\n",
    "llh_list = []\n",
    "for idx, row in df.iterrows():\n",
    "    phrase_list = row['phrases'].split()\n",
    "    pos_tags_list = nltk.pos_tag(phrase_list)\n",
    "    \n",
    "    for i in range(len(pos_tags_list)):\n",
    "        if(pos_tags_list[i][0] == 'love' or pos_tags_list[i][0] == 'hate' or (pos_tags_list[i][0] == 'like' and pos_tags_list[i][1].startswith('VB'))):\n",
    "            llh_list.append((idx, row['phrases']))\n",
    "for i in range(50):\n",
    "    print(llh_list[i])"
   ]
  }
 ],
 "metadata": {
  "kernelspec": {
   "display_name": "Python 3 (ipykernel)",
   "language": "python",
   "name": "python3"
  },
  "language_info": {
   "codemirror_mode": {
    "name": "ipython",
    "version": 3
   },
   "file_extension": ".py",
   "mimetype": "text/x-python",
   "name": "python",
   "nbconvert_exporter": "python",
   "pygments_lexer": "ipython3",
   "version": "3.10.8"
  }
 },
 "nbformat": 4,
 "nbformat_minor": 5
}
