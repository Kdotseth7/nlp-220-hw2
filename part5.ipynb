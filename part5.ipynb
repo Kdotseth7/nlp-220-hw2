{
 "cells": [
  {
   "cell_type": "code",
   "execution_count": 2,
   "id": "be799393",
   "metadata": {},
   "outputs": [],
   "source": [
    "# Imports\n",
    "import pandas as pd"
   ]
  },
  {
   "cell_type": "code",
   "execution_count": 41,
   "id": "70a2efdc",
   "metadata": {},
   "outputs": [
    {
     "name": "stdout",
     "output_type": "stream",
     "text": [
      "(239232, 1)\n",
      "                  vocab\n",
      "id                     \n",
      "0                     !\n",
      "1                     '\n",
      "2                   ' (\n",
      "3     ' ( the cockettes\n",
      "4   ' ( the cockettes )\n",
      "                                              vocab\n",
      "id                                                 \n",
      "239227              your standard Hollywood bio-pic\n",
      "239228  your typical &#96 fish out of water ' story\n",
      "239229                                       zero .\n",
      "239230                            zippy jazzy score\n",
      "239231                                          UNK\n"
     ]
    },
    {
     "name": "stderr",
     "output_type": "stream",
     "text": [
      "/var/folders/hk/l7897jp170bb9tbb20n80tz00000gn/T/ipykernel_51761/4282373296.py:11: ParserWarning: Falling back to the 'python' engine because the 'c' engine does not support regex separators (separators > 1 char and different from '\\s+' are interpreted as regex); you can avoid this warning by specifying engine='python'.\n",
      "  scores_df = pd.read_csv('Data/stanfordSentimentTreebankRaw/rawscores_exp12.txt',\n"
     ]
    },
    {
     "name": "stdout",
     "output_type": "stream",
     "text": [
      "(239232, 1)\n",
      "         scores\n",
      "0    0,13,13,13\n",
      "1    1,13,13,13\n",
      "2     2,9,13,13\n",
      "3    3,13,13,13\n",
      "4  4,10,9,13,13\n",
      "                 scores\n",
      "239227    239227,15,9,5\n",
      "239228   239228,12,9,10\n",
      "239229   239229,13,13,1\n",
      "239230  239230,17,25,25\n",
      "239231  239231,13,13,13\n"
     ]
    }
   ],
   "source": [
    "# Reading txt Files into Pandas DataFrame\n",
    "vocab_df = pd.read_csv('Data/stanfordSentimentTreebankRaw/sentlex_exp12.txt', \n",
    "                       header = None, \n",
    "                       index_col = 0)\n",
    "vocab_df.index.name = 'id'\n",
    "vocab_df.columns = ['vocab']\n",
    "print(vocab_df.shape)\n",
    "print(vocab_df.head())\n",
    "print(vocab_df.tail())\n",
    "\n",
    "scores_df = pd.read_csv('Data/stanfordSentimentTreebankRaw/rawscores_exp12.txt', \n",
    "                        header = None, sep=\"  \")\n",
    "#                         sep = ', ', \n",
    "# scores_df.index.name = 'id'\n",
    "scores_df.columns = ['scores']\n",
    "print(scores_df.shape)\n",
    "print(scores_df.head())\n",
    "print(scores_df.tail())"
   ]
  }
 ],
 "metadata": {
  "kernelspec": {
   "display_name": "Python 3 (ipykernel)",
   "language": "python",
   "name": "python3"
  },
  "language_info": {
   "codemirror_mode": {
    "name": "ipython",
    "version": 3
   },
   "file_extension": ".py",
   "mimetype": "text/x-python",
   "name": "python",
   "nbconvert_exporter": "python",
   "pygments_lexer": "ipython3",
   "version": "3.10.8"
  }
 },
 "nbformat": 4,
 "nbformat_minor": 5
}
