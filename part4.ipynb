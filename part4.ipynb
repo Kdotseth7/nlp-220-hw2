{
 "cells": [
  {
   "cell_type": "code",
   "execution_count": 5,
   "id": "f852ec37",
   "metadata": {},
   "outputs": [],
   "source": [
    "# Imports\n",
    "import xml.etree.ElementTree as ET"
   ]
  },
  {
   "cell_type": "code",
   "execution_count": 294,
   "id": "a3e11fdf",
   "metadata": {},
   "outputs": [
    {
     "name": "stdout",
     "output_type": "stream",
     "text": [
      "Indiana Jones: The raiders of the lost Ark , 1981\n",
      "THE KARATE KID , 1984\n",
      "Back 2 the Future , 1985\n",
      "X-Men , 2000\n",
      "Batman Returns , 1992\n",
      "Reservoir Dogs , 1992\n"
     ]
    }
   ],
   "source": [
    "# Reading XML File\n",
    "tree = ET.parse('Data/movies-new.xml')\n",
    "root = tree.getroot()\n",
    "    \n",
    "title_list = []    \n",
    "year_list = []    \n",
    "for element in root.findall(\"./genre[@category='Action']/*\"):\n",
    "    for title in element.iter('movie'): title_list.append(title.attrib['title']) \n",
    "    for year in element.iter('year'): year_list.append(year.text) \n",
    "\n",
    "for i in range(len(title_list)):\n",
    "    print(title_list[i], ',', year_list[i])"
   ]
  }
 ],
 "metadata": {
  "kernelspec": {
   "display_name": "Python 3 (ipykernel)",
   "language": "python",
   "name": "python3"
  },
  "language_info": {
   "codemirror_mode": {
    "name": "ipython",
    "version": 3
   },
   "file_extension": ".py",
   "mimetype": "text/x-python",
   "name": "python",
   "nbconvert_exporter": "python",
   "pygments_lexer": "ipython3",
   "version": "3.10.8"
  }
 },
 "nbformat": 4,
 "nbformat_minor": 5
}
